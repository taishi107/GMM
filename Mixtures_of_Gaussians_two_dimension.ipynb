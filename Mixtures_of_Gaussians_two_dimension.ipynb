{
 "cells": [
  {
   "cell_type": "markdown",
   "metadata": {},
   "source": [
    "### ２次元の混合ガウス分布"
   ]
  },
  {
   "cell_type": "code",
   "execution_count": 1,
   "metadata": {
    "collapsed": true
   },
   "outputs": [],
   "source": [
    "%matplotlib inline\n",
    "import numpy as np\n",
    "import matplotlib.pyplot as plt\n",
    "from scipy.stats import multivariate_normal\n",
    "import math"
   ]
  },
  {
   "cell_type": "code",
   "execution_count": 5,
   "metadata": {
    "collapsed": true
   },
   "outputs": [],
   "source": [
    "class Gauss_Model():\n",
    "    def __init__(self):\n",
    "        self.k = 2\n",
    "        self.pai = [1/3,1/3,1/3]\n",
    "        self.sample = []\n",
    "        self.gauss = []\n",
    "        \n",
    "    def dataset(self,mean,sigma):\n",
    "        for i in range(self.k):\n",
    "            #self.sample.append(np.random.multivariate_normal(mean[i],sigma[i],300).T)\n",
    "            #plt.scatter(self.sample[i][0],self.sample[i][1],color='g',marker='+')\n",
    "            samplesB = np.random.multivariate_normal(mean[i],sigma[i],300).T\n",
    "            if(i>=1):\n",
    "                samplesA = np.column_stack((samplesA,samplesB))\n",
    "            else:\n",
    "                samplesA = samplesB\n",
    "        self.sample = samplesA\n",
    "        plt.scatter(self.sample[0],self.sample[1],color='g',marker='+')\n",
    "        \n",
    "    def make_gauss_model(self,ave,sigma):\n",
    "        for i in range(self.k):\n",
    "            self.gauss.append(multivariate_normal(mean=ave[i],cov=sigma[i]))\n",
    "            \n",
    "        \n",
    "    def plot_graph(self):\n",
    "        n=1"
   ]
  },
  {
   "cell_type": "code",
   "execution_count": 7,
   "metadata": {},
   "outputs": [
    {
     "data": {
      "image/png": "[encoded data removed]",
      "text/plain": [
       "<matplotlib.figure.Figure at 0x2ba4d24d4e0>"
      ]
     },
     "metadata": {},
     "output_type": "display_data"
    }
   ],
   "source": [
    "gm = Gauss_Model()\n",
    "s_mean = [[-5,-5],[0,0],[5,5]]\n",
    "s_sigma = [[[1.9,1.5],[1.5,1.9]],\n",
    "        [[2.1,-1.0],[-1.0,2.1]],\n",
    "          [[1.9,1.5],[1.5,1.9]]]\n",
    "gm.dataset(s_mean,s_sigma)\n",
    "\n",
    "g_mean = [[1,-8],[-6,2],[0,0]]\n",
    "g_sigma = [[[1,0],[0,1]],\n",
    "        [[1,0],[0,1]],\n",
    "          [[1,0],[0,1]]]\n",
    "gm.make_gauss_model(g_mean,g_sigma)\n",
    "#gm.plot_graph()"
   ]
  },
  {
   "cell_type": "code",
   "execution_count": 82,
   "metadata": {},
   "outputs": [
    {
     "name": "stdout",
     "output_type": "stream",
     "text": [
      "[-9.52416706 -8.52416706 -7.52416706 -6.52416706 -5.52416706 -4.52416706\n",
      " -3.52416706 -2.52416706 -1.52416706 -0.52416706  0.47583294  1.47583294\n",
      "  2.47583294  3.47583294  4.47583294]\n"
     ]
    }
   ],
   "source": [
    "y = np.mgrid[(min(gm.sample[0][0])):(max(gm.sample[0][0])):1]\n",
    "print(y)"
   ]
  },
  {
   "cell_type": "code",
   "execution_count": 91,
   "metadata": {},
   "outputs": [
    {
     "data": {
      "text/plain": [
       "[]"
      ]
     },
     "execution_count": 91,
     "metadata": {},
     "output_type": "execute_result"
    }
   ],
   "source": [
    "sample"
   ]
  },
  {
   "cell_type": "code",
   "execution_count": 2,
   "metadata": {
    "collapsed": true
   },
   "outputs": [],
   "source": [
    "def detaset(mu1,mu2,mu3,cov1,cov2,cov3,node):\n",
    "    #データの生成\n",
    "    sample1 = np.random.multivariate_normal(mu1,cov1,node).T\n",
    "    sample2 = np.random.multivariate_normal(mu2,cov2,node).T\n",
    "    #sample3 = np.random.multivariate_normal(mu3,cov3,node).T\n",
    "    return np.column_stack((sample1,sample2,sample3))"
   ]
  }
 ],
 "metadata": {
  "kernelspec": {
   "display_name": "Python 3",
   "language": "python",
   "name": "python3"
  },
  "language_info": {
   "codemirror_mode": {
    "name": "ipython",
    "version": 3
   },
   "file_extension": ".py",
   "mimetype": "text/x-python",
   "name": "python",
   "nbconvert_exporter": "python",
   "pygments_lexer": "ipython3",
   "version": "3.6.1"
  }
 },
 "nbformat": 4,
 "nbformat_minor": 2
}
